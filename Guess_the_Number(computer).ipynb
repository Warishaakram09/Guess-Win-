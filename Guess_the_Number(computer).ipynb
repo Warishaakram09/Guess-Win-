{
  "nbformat": 4,
  "nbformat_minor": 0,
  "metadata": {
    "colab": {
      "provenance": []
    },
    "kernelspec": {
      "name": "python3",
      "display_name": "Python 3"
    },
    "language_info": {
      "name": "python"
    }
  },
  "cells": [
    {
      "cell_type": "code",
      "execution_count": null,
      "metadata": {
        "colab": {
          "base_uri": "https://localhost:8080/"
        },
        "id": "NQkB8UwD5jT5",
        "outputId": "5ec2d3b2-2872-490e-b6a6-d890d5f6528e"
      },
      "outputs": [
        {
          "output_type": "stream",
          "name": "stdout",
          "text": [
            "\n",
            "🎮 Welcome to 'Guess the Number' Game!\n",
            "I have chosen a number between 1 and10. Try to guess it! 🤔\n",
            "\n",
            "Enter your guess: 7\n",
            "📈 Too high! Try again.\n",
            "\n",
            "Enter your guess: 8\n",
            "📈 Too high! Try again.\n",
            "\n",
            "Enter your guess: 9\n",
            "📈 Too high! Try again.\n",
            "\n",
            "Enter your guess: 1\n",
            "📉 Too low! Try again.\n",
            "\n",
            "Enter your guess: 2\n",
            "📉 Too low! Try again.\n",
            "\n",
            "Enter your guess: 3\n",
            "📉 Too low! Try again.\n",
            "\n",
            "Enter your guess: 4\n",
            "📉 Too low! Try again.\n",
            "\n",
            "Enter your guess: 5\n",
            "📉 Too low! Try again.\n",
            "\n",
            "Enter your guess: 6\n",
            "🎉 Correct! You guessed the number in 9 attempts! 🚀\n",
            "\n",
            "Thanks for playing! 😊\n"
          ]
        }
      ],
      "source": [
        "import random\n",
        "\n",
        "# Computer selects a random number between 1 and 100\n",
        "secret_number = random.randint(1,10)\n",
        "attempts = 0\n",
        "\n",
        "print(\"\\n🎮 Welcome to 'Guess the Number' Game!\")\n",
        "print(\"I have chosen a number between 1 and10. Try to guess it! 🤔\")\n",
        "\n",
        "# Game Loop\n",
        "while True:\n",
        "    try:\n",
        "        user_guess = int(input(\"\\nEnter your guess: \"))\n",
        "        attempts += 1\n",
        "\n",
        "        if user_guess < secret_number:\n",
        "            print(\"📉 Too low! Try again.\")\n",
        "        elif user_guess > secret_number:\n",
        "            print(\"📈 Too high! Try again.\")\n",
        "        else:\n",
        "            print(f\"🎉 Correct! You guessed the number in {attempts} attempts! 🚀\")\n",
        "            break\n",
        "    except ValueError:\n",
        "        print(\"❌ Invalid input! Please enter a number.\")\n",
        "\n",
        "print(\"\\nThanks for playing! 😊\")\n"
      ]
    }
  ]
}